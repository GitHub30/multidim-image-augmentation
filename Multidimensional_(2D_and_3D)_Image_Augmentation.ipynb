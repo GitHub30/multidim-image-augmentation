{
  "nbformat": 4,
  "nbformat_minor": 0,
  "metadata": {
    "colab": {
      "name": "Multidimensional (2D and 3D) Image Augmentation.ipynb",
      "version": "0.3.2",
      "provenance": [],
      "include_colab_link": true
    },
    "kernelspec": {
      "name": "python3",
      "display_name": "Python 3"
    },
    "accelerator": "GPU"
  },
  "cells": [
    {
      "cell_type": "markdown",
      "metadata": {
        "id": "view-in-github",
        "colab_type": "text"
      },
      "source": [
        "<a href=\"https://colab.research.google.com/github/GitHub30/multidim-image-augmentation/blob/google-colaboratory/Multidimensional_(2D_and_3D)_Image_Augmentation.ipynb\" target=\"_parent\"><img src=\"https://colab.research.google.com/assets/colab-badge.svg\" alt=\"Open In Colab\"/></a>"
      ]
    },
    {
      "metadata": {
        "id": "xTLfiBZfQujy",
        "colab_type": "text"
      },
      "cell_type": "markdown",
      "source": [
        "# Install Bazel"
      ]
    },
    {
      "metadata": {
        "id": "YgGoiayKQWff",
        "colab_type": "code",
        "colab": {}
      },
      "cell_type": "code",
      "source": [
        "!apt-get update \\\n",
        "  && apt-get install -y openjdk-8-jdk \\\n",
        "  && echo \"deb [arch=amd64] http://storage.googleapis.com/bazel-apt stable jdk1.8\" > /etc/apt/sources.list.d/bazel.list \\\n",
        "  && curl https://bazel.build/bazel-release.pub.gpg | apt-key add - \\\n",
        "  && apt-get update \\\n",
        "  && apt-get install -y bazel"
      ],
      "execution_count": 0,
      "outputs": []
    },
    {
      "metadata": {
        "id": "2-PUu6snQ9EC",
        "colab_type": "text"
      },
      "cell_type": "markdown",
      "source": [
        "# Clone the repository"
      ]
    },
    {
      "metadata": {
        "id": "BT6B0GxjQ1er",
        "colab_type": "code",
        "colab": {}
      },
      "cell_type": "code",
      "source": [
        "!git clone https://github.com/deepmind/multidim-image-augmentation.git\n",
        "%cd multidim-image-augmentation/"
      ],
      "execution_count": 0,
      "outputs": []
    },
    {
      "metadata": {
        "id": "PEPj9RIGRHbq",
        "colab_type": "text"
      },
      "cell_type": "markdown",
      "source": [
        "# Test it!"
      ]
    },
    {
      "metadata": {
        "id": "QCEC-TLVRCrh",
        "colab_type": "code",
        "colab": {}
      },
      "cell_type": "code",
      "source": [
        "!bazel test -c opt //..."
      ],
      "execution_count": 0,
      "outputs": []
    }
  ]
}